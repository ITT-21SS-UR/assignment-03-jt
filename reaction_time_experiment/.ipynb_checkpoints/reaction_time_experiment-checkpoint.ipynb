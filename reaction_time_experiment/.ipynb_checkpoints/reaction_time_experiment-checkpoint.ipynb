{
 "cells": [
  {
   "cell_type": "markdown",
   "id": "tamil-index",
   "metadata": {},
   "source": [
    "# Reaction Time Analysis"
   ]
  },
  {
   "cell_type": "markdown",
   "id": "civilian-heart",
   "metadata": {},
   "source": [
    "We wanted to test the reaction time of our participants when they get conflicting signals.\n",
    "\n",
    "For this we tested 6 participants of different age and technical skills in a within subejcts design.\n",
    "\n",
    "Our first condition serves as our starting point. The participants saw a rectangle on the screen and had to press a specific key for every color. F for blue and J for yellow. \n",
    "\n",
    "In the second condition we wanted to test their reaction time when they got conflicting signals. They again saw a colored rectangle, but this time there was also a word inside it (blue oder yellow) and they had to press the key based on the word and not the background color. Again F for blue and J for yellow. \n",
    "\n",
    "These two keys were selected because they are both the starting points for the 10-finger-tipping technique and are located in the middle. The participants placed there fingers directly over the keys so we could eliminate the time for finding the key.\n",
    "\n",
    "Both conditions had 10 rounds."
   ]
  },
  {
   "cell_type": "markdown",
   "id": "prospective-serum",
   "metadata": {},
   "source": [
    "### Import packages"
   ]
  },
  {
   "cell_type": "code",
   "execution_count": null,
   "id": "serial-scene",
   "metadata": {},
   "outputs": [],
   "source": [
    "import matplotlib\n",
    "from matplotlib import pyplot as plt\n",
    "import pandas as pd\n",
    "from scipy import stats\n",
    "import numpy as np"
   ]
  },
  {
   "cell_type": "markdown",
   "id": "worldwide-norwegian",
   "metadata": {},
   "source": [
    "### Import csv and extract relevant data"
   ]
  },
  {
   "cell_type": "code",
   "execution_count": null,
   "id": "certain-clock",
   "metadata": {},
   "outputs": [],
   "source": [
    "# import csv file\n",
    "df_reaction_time_results = pd.read_csv('data.csv')"
   ]
  },
  {
   "cell_type": "code",
   "execution_count": null,
   "id": "promising-clerk",
   "metadata": {},
   "outputs": [],
   "source": [
    "# added new column for correctness of user input by comparison of pressed_key value and correct_key value\n",
    "df_reaction_time_results['correctness'] = np.where(df_reaction_time_results['pressed_key'] == df_reaction_time_results['correct_key'], True, False)"
   ]
  },
  {
   "cell_type": "code",
   "execution_count": null,
   "id": "baking-imagination",
   "metadata": {},
   "outputs": [],
   "source": [
    "# removed unecessary columns. Both timestamps, and both key_presses\n",
    "df_reaction_time = df_reaction_time_results.drop(columns=['timestamp_start', 'timestamp_end', 'pressed_key', 'correct_key'])"
   ]
  },
  {
   "cell_type": "markdown",
   "id": "manual-uzbekistan",
   "metadata": {},
   "source": [
    "## Scatterplot"
   ]
  },
  {
   "cell_type": "markdown",
   "id": "wrapped-seven",
   "metadata": {},
   "source": [
    "#### Scatterplot for the first condition.\n",
    "x-axis is the correctness and y-axis is the reaction time"
   ]
  },
  {
   "cell_type": "code",
   "execution_count": null,
   "id": "superb-finland",
   "metadata": {},
   "outputs": [],
   "source": [
    "x1 = df_reaction_time['correctness'][df_reaction_time['condition'] == 1]\n",
    "y1 = df_reaction_time['reaction_time_in_s'][df_reaction_time['condition'] == 1]"
   ]
  },
  {
   "cell_type": "code",
   "execution_count": null,
   "id": "beautiful-cooking",
   "metadata": {},
   "outputs": [],
   "source": [
    "plt.scatter(x1,y1)\n",
    "plt.title('Scatterplot - Condition 2 per correctness')\n",
    "plt.xlabel('correctness')\n",
    "plt.ylabel('reaction time in sec')\n",
    "plt.savefig('scatterplot_first_condition.jpg')"
   ]
  },
  {
   "cell_type": "markdown",
   "id": "meaningful-kidney",
   "metadata": {},
   "source": [
    "#### Scatterplot for the second condition.\n",
    "x-axis is the correctness and y-axis is the reaction time"
   ]
  },
  {
   "cell_type": "code",
   "execution_count": null,
   "id": "pursuant-painting",
   "metadata": {},
   "outputs": [],
   "source": [
    "x2 = df_reaction_time['correctness'][df_reaction_time['condition'] == 2]\n",
    "y2 = df_reaction_time['reaction_time_in_s'][df_reaction_time['condition'] == 2]"
   ]
  },
  {
   "cell_type": "code",
   "execution_count": null,
   "id": "convinced-rebecca",
   "metadata": {},
   "outputs": [],
   "source": [
    "plt.scatter(x2,y2)\n",
    "plt.title('Scatterplot - Condition 1 per correctness')\n",
    "plt.xlabel('correctness')\n",
    "plt.ylabel('reaction time in sec')\n",
    "plt.savefig('scatterplot_sec_condition.jpg')"
   ]
  },
  {
   "cell_type": "markdown",
   "id": "loved-beach",
   "metadata": {},
   "source": [
    "#### Scatterplot for both conditions\n",
    "x-axis is the correctness and y-axis is the reaction time.\n",
    "condition 1 is blue. condition 2 is orange"
   ]
  },
  {
   "cell_type": "code",
   "execution_count": null,
   "id": "whole-young",
   "metadata": {},
   "outputs": [],
   "source": [
    "plt.scatter(x1,y1, label='condition 1')\n",
    "plt.scatter(x2,y2, label='condition 2')\n",
    "plt.legend(loc=2)\n",
    "plt.title('Scatterplot - Condition 1 and 2 per correctness')\n",
    "plt.xlabel('correctness')\n",
    "plt.ylabel('reaction time in sec')\n",
    "plt.savefig('scatterplot_both_conditions.jpg')"
   ]
  },
  {
   "cell_type": "markdown",
   "id": "fantastic-reserve",
   "metadata": {},
   "source": [
    "## Boxplots"
   ]
  },
  {
   "cell_type": "markdown",
   "id": "cutting-firewall",
   "metadata": {},
   "source": [
    "#### Boxplot for the reactiontime per condition"
   ]
  },
  {
   "cell_type": "code",
   "execution_count": null,
   "id": "false-jurisdiction",
   "metadata": {},
   "outputs": [],
   "source": [
    "plt.boxplot([y1, y2])\n",
    "plt.title('Boxplot - reaction_time per condition')\n",
    "plt.xlabel('condition')\n",
    "plt.ylabel('reaction time in sec')\n",
    "plt.savefig('boxplot_reaction_time.jpg')"
   ]
  },
  {
   "cell_type": "markdown",
   "id": "caroline-bracket",
   "metadata": {},
   "source": [
    "## T-Test"
   ]
  },
  {
   "cell_type": "markdown",
   "id": "automated-content",
   "metadata": {},
   "source": [
    "#### T-Test for the correctness of the conditions"
   ]
  },
  {
   "cell_type": "code",
   "execution_count": null,
   "id": "everyday-serve",
   "metadata": {},
   "outputs": [],
   "source": [
    "stats.ttest_ind(x1,x2)"
   ]
  },
  {
   "cell_type": "markdown",
   "id": "spanish-windows",
   "metadata": {},
   "source": [
    "#### T-Test for the reaction time of the conditions"
   ]
  },
  {
   "cell_type": "code",
   "execution_count": null,
   "id": "caring-corpus",
   "metadata": {},
   "outputs": [],
   "source": [
    "stats.ttest_ind(y1,y2)"
   ]
  },
  {
   "cell_type": "markdown",
   "id": "higher-collaboration",
   "metadata": {},
   "source": [
    "The p-values above 0.05 indicate the results are not significant."
   ]
  },
  {
   "cell_type": "markdown",
   "id": "behind-raleigh",
   "metadata": {},
   "source": [
    "## Discussion of results"
   ]
  },
  {
   "cell_type": "markdown",
   "id": "superb-meter",
   "metadata": {},
   "source": [
    "Testing only six participants wasn’t enough to get valid or even meaningful results. Therefore we have to discuss them very critically. \n",
    "\n",
    "Looking at the scatterplot for both condition one can see, that there are hardly any differences between the two condition. Our hypothesis was, that the more mentally demanding second condition would give worse results on reaction time and correctness but we can’t confirm that. The scatterplot shows, that there are two wrong inputs for the first condition and three for the second, just a very small difference. The reaction time for the second condition is even better than for the first one. In general, the participants pressed the corresponding keys quickly, the majority of the results are under 2.5 seconds, however, there are more outliers upwards in the first condition than in the second one. \n",
    "\n",
    "This can be seen even better in the boxplots where there are only five outliers in the second condition in comparison to around 10 in the first one.\n",
    "But one can also see that the whisker for the first condition is much lower than the one for the second which indicates, that the keypresses for the first one are in general faster at around 1 to 1.5 seconds while the whiskers for the second one is at 2.5 seconds. \n",
    "\n",
    "In order to get the significance, a independent t-test was carried out. The two used conditions are reaction time and correctness for both study conditions.\n",
    "The value of the correctness is 0.41 and the value of the reaction time 0.75. Both p-values are above 0.05 and are therefore not significant.\n",
    "\n",
    "To order to obtain more meaningful results it would be useful to conduct the study again with much more participants."
   ]
  }
 ],
 "metadata": {
  "kernelspec": {
   "display_name": "Python 3",
   "language": "python",
   "name": "python3"
  },
  "language_info": {
   "codemirror_mode": {
    "name": "ipython",
    "version": 3
   },
   "file_extension": ".py",
   "mimetype": "text/x-python",
   "name": "python",
   "nbconvert_exporter": "python",
   "pygments_lexer": "ipython3",
   "version": "3.9.2"
  }
 },
 "nbformat": 4,
 "nbformat_minor": 5
}
