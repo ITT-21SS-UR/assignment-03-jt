{
 "cells": [
  {
   "cell_type": "markdown",
   "id": "tamil-index",
   "metadata": {},
   "source": [
    "# Reaction Time Analysis"
   ]
  },
  {
   "cell_type": "markdown",
   "id": "civilian-heart",
   "metadata": {},
   "source": [
    "We wanted to test the reaction time of our participants when they get conflicting signals.\n",
    "\n",
    "For this we tested 6 participants of different age and technical skills in a within subejcts design.\n",
    "\n",
    "Our first condition serves as our starting point. The participants saw a rectangle on the screen and had to press a specific key for every color. F for blue and J for yellow. \n",
    "\n",
    "In the second condition we wanted to test their reaction time when they got conflicting signals. They again saw a colored rectangle, but this time there was also a word inside it (blue oder yellow) and they had to press the key based on the word and not the background color. Again F for blue and J for yellow. \n",
    "\n",
    "These two keys were selected because they are both the starting points for the 10-finger-tipping technique and are located in the middle. The participants placed there fingers directly over the keys so we could eliminate the time for finding the key.\n",
    "\n",
    "Both conditions had 10 rounds."
   ]
  },
  {
   "cell_type": "markdown",
   "id": "prospective-serum",
   "metadata": {},
   "source": [
    "### Import packages"
   ]
  },
  {
   "cell_type": "code",
   "execution_count": null,
   "id": "serial-scene",
   "metadata": {},
   "outputs": [],
   "source": [
    "import matplotlib\n",
    "from matplotlib import pyplot as plt\n",
    "import pandas as pd\n",
    "from scipy import stats"
   ]
  },
  {
   "cell_type": "markdown",
   "id": "worldwide-norwegian",
   "metadata": {},
   "source": [
    "### Import csv and extract relevant data"
   ]
  },
  {
   "cell_type": "code",
   "execution_count": null,
   "id": "certain-clock",
   "metadata": {},
   "outputs": [],
   "source": [
    "# import csv file\n",
    "df_reaction_time_results = pd.read_csv('reaction_time_results.csv')"
   ]
  },
  {
   "cell_type": "code",
   "execution_count": null,
   "id": "promising-clerk",
   "metadata": {},
   "outputs": [],
   "source": [
    "# added new column for correctness of user input by comparison of pressed_key value and correct_key value\n",
    "df_reaction_time['correctness'] = np.where(df_reaction_time['pressed_key'] == df_reaction_time['correct_key'], True, False)"
   ]
  },
  {
   "cell_type": "code",
   "execution_count": null,
   "id": "baking-imagination",
   "metadata": {},
   "outputs": [],
   "source": [
    "# removed unecessary columns. Both timestamps, and both key_presses\n",
    "df_reaction_time = df_reaction_time.drop(columns=['timestamp_start', 'timestamp_end', 'pressed_key', 'correct_key'])"
   ]
  },
  {
   "cell_type": "markdown",
   "id": "manual-uzbekistan",
   "metadata": {},
   "source": [
    "## Scatterplot"
   ]
  },
  {
   "cell_type": "markdown",
   "id": "wrapped-seven",
   "metadata": {},
   "source": [
    "#### Scatterplot for the first condition.\n",
    "x-axis is the correctness and y-axis is the reaction time"
   ]
  },
  {
   "cell_type": "code",
   "execution_count": null,
   "id": "superb-finland",
   "metadata": {},
   "outputs": [],
   "source": [
    "x1 = df_reaction_time['correctness'][df_reaction_time['condition'] == 1]\n",
    "y1 = df_reaction_time['reaction_time_in_s'][df_reaction_time['condition'] == 1]"
   ]
  },
  {
   "cell_type": "code",
   "execution_count": null,
   "id": "beautiful-cooking",
   "metadata": {},
   "outputs": [],
   "source": [
    "plt.scatter(x1,y1)\n",
    "plt.title('Scatterplot - Condition 2 per correctness')\n",
    "plt.xlabel('correctness')\n",
    "plt.ylabel('reaction time in sec')\n",
    "plt.savefig('scatterplot_first_condition.jpg')"
   ]
  },
  {
   "cell_type": "markdown",
   "id": "meaningful-kidney",
   "metadata": {},
   "source": [
    "#### Scatterplot for the second condition.\n",
    "x-axis is the correctness and y-axis is the reaction time"
   ]
  },
  {
   "cell_type": "code",
   "execution_count": null,
   "id": "pursuant-painting",
   "metadata": {},
   "outputs": [],
   "source": [
    "x2 = df_reaction_time['correctness'][df_reaction_time['condition'] == 2]\n",
    "y2 = df_reaction_time['reaction_time_in_s'][df_reaction_time['condition'] == 2]"
   ]
  },
  {
   "cell_type": "code",
   "execution_count": null,
   "id": "convinced-rebecca",
   "metadata": {},
   "outputs": [],
   "source": [
    "plt.scatter(x2,y2)\n",
    "plt.title('Scatterplot - Condition 1 per correctness')\n",
    "plt.xlabel('correctness')\n",
    "plt.ylabel('reaction time in sec')\n",
    "plt.savefig('scatterplot_sec_condition.jpg')"
   ]
  },
  {
   "cell_type": "markdown",
   "id": "loved-beach",
   "metadata": {},
   "source": [
    "#### Scatterplot for both conditions\n",
    "x-axis is the correctness and y-axis is the reaction time.\n",
    "condition 1 is blue. condition 2 is orange"
   ]
  },
  {
   "cell_type": "code",
   "execution_count": null,
   "id": "whole-young",
   "metadata": {},
   "outputs": [],
   "source": [
    "plt.scatter(x1,y1, label='condition 1')\n",
    "plt.scatter(x2,y2, label='condition 2')\n",
    "plt.legend(loc=2)\n",
    "plt.title('Scatterplot - Condition 1 and 2 per correctness')\n",
    "plt.xlabel('correctness')\n",
    "plt.ylabel('reaction time in sec')\n",
    "plt.savefig('scatterplot_both_conditions.jpg')"
   ]
  },
  {
   "cell_type": "markdown",
   "id": "fantastic-reserve",
   "metadata": {},
   "source": [
    "## Boxplots"
   ]
  },
  {
   "cell_type": "markdown",
   "id": "cutting-firewall",
   "metadata": {},
   "source": [
    "#### Boxplot for the reactiontime per condition"
   ]
  },
  {
   "cell_type": "code",
   "execution_count": null,
   "id": "false-jurisdiction",
   "metadata": {},
   "outputs": [],
   "source": [
    "plt.boxplot([y1, y2])\n",
    "plt.title('Boxplot - reaction_time per condition')\n",
    "plt.xlabel('condition')\n",
    "plt.ylabel('reaction time in sec')\n",
    "plt.savefig('boxplot_reaction_time.jpg')"
   ]
  },
  {
   "cell_type": "markdown",
   "id": "caroline-bracket",
   "metadata": {},
   "source": [
    "## T-Test"
   ]
  },
  {
   "cell_type": "markdown",
   "id": "automated-content",
   "metadata": {},
   "source": [
    "#### T-Test for the correctness of the conditions"
   ]
  },
  {
   "cell_type": "code",
   "execution_count": null,
   "id": "everyday-serve",
   "metadata": {},
   "outputs": [],
   "source": [
    "stats.ttest_ind(x1,x2)"
   ]
  },
  {
   "cell_type": "markdown",
   "id": "spanish-windows",
   "metadata": {},
   "source": [
    "#### T-Test for the reaction time of the conditions"
   ]
  },
  {
   "cell_type": "code",
   "execution_count": null,
   "id": "caring-corpus",
   "metadata": {},
   "outputs": [],
   "source": [
    "stats.ttest_ind(y1,y2)"
   ]
  },
  {
   "cell_type": "markdown",
   "id": "higher-collaboration",
   "metadata": {},
   "source": [
    "The p-values above 0.05 indicate the results are not significant."
   ]
  },
  {
   "cell_type": "markdown",
   "id": "behind-raleigh",
   "metadata": {},
   "source": [
    "## Discussion of results"
   ]
  },
  {
   "cell_type": "markdown",
   "id": "superb-meter",
   "metadata": {},
   "source": [
    "There is no significant difference between the two conditions. Neither with the reaction time nor the correctness of there input."
   ]
  }
 ],
 "metadata": {
  "kernelspec": {
   "display_name": "Python 3",
   "language": "python",
   "name": "python3"
  },
  "language_info": {
   "codemirror_mode": {
    "name": "ipython",
    "version": 3
   },
   "file_extension": ".py",
   "mimetype": "text/x-python",
   "name": "python",
   "nbconvert_exporter": "python",
   "pygments_lexer": "ipython3",
   "version": "3.9.2"
  }
 },
 "nbformat": 4,
 "nbformat_minor": 5
}
